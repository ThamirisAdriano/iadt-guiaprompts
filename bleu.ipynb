{
  "nbformat": 4,
  "nbformat_minor": 0,
  "metadata": {
    "colab": {
      "provenance": [],
      "authorship_tag": "ABX9TyOouS80Q8DLdMSdJ8bXrRi6",
      "include_colab_link": true
    },
    "kernelspec": {
      "name": "python3",
      "display_name": "Python 3"
    },
    "language_info": {
      "name": "python"
    }
  },
  "cells": [
    {
      "cell_type": "markdown",
      "metadata": {
        "id": "view-in-github",
        "colab_type": "text"
      },
      "source": [
        "<a href=\"https://colab.research.google.com/github/ThamirisAdriano/iadt-prompts/blob/master/bleu.ipynb\" target=\"_parent\"><img src=\"https://colab.research.google.com/assets/colab-badge.svg\" alt=\"Open In Colab\"/></a>"
      ]
    },
    {
      "cell_type": "markdown",
      "source": [
        "### Importação da Função BLEU\n",
        "O código importa a função sentence_bleu do pacote nltk, que é responsável por calcular o BLEU Score para frases.\n",
        "\n",
        "Também importa a classe SmoothingFunction, que ajuda a suavizar o cálculo do BLEU Score, especialmente quando temos frases curtas."
      ],
      "metadata": {
        "id": "hfmqcGZzbLy2"
      }
    },
    {
      "cell_type": "code",
      "execution_count": 2,
      "metadata": {
        "id": "6CBf7VBda60R"
      },
      "outputs": [],
      "source": [
        "from nltk.translate.bleu_score import sentence_bleu, SmoothingFunction"
      ]
    },
    {
      "cell_type": "markdown",
      "source": [
        "###Aqui, dois textos são definidos: o texto de referência e o texto candidato.\n",
        "Texto de referência: Este é o texto considerado \"correto\" ou \"verdadeiro\". No exemplo, ele descreve o ácido acético.\n",
        "\n",
        "Texto candidato: Este é o texto que você deseja comparar com o de referência. Ele é uma versão mais curta e simplificada da mesma informação.\n",
        "\n",
        "Ambos os textos são divididos em listas de palavras com .split(), para que cada palavra seja tratada individualmente no cálculo."
      ],
      "metadata": {
        "id": "axRrCCKObPmC"
      }
    },
    {
      "cell_type": "code",
      "source": [
        "referencia = [\"\"\"\n",
        "O ácido acético, com fórmula CH₃COOH, é um líquido incolor e corrosivo. É utilizado na produção de acetato de vinila e como componente principal do vinagre.\n",
        "\"\"\".split()]\n",
        "\n",
        "candidato = \"\"\"\n",
        "Ácido acético é um líquido incolor com fórmula CH₃COOH. Usado na fabricação de acetato de vinila e encontrado no vinagre.\n",
        "\"\"\".split()"
      ],
      "metadata": {
        "id": "2Wj5C4RcbBMB"
      },
      "execution_count": 3,
      "outputs": []
    },
    {
      "cell_type": "markdown",
      "source": [
        "BLEU Scores para frases curtas podem resultar em valores muito baixos ou errados se não houver palavras que coincidam.\n",
        "\n",
        "A suavização ajuda a compensar isso, garantindo que o cálculo do BLEU funcione bem mesmo em frases curtas.\n",
        "\n",
        "Aqui, method4 é uma das técnicas de suavização disponíveis, e é aplicada no cálculo."
      ],
      "metadata": {
        "id": "6qsC_PO_bOVW"
      }
    },
    {
      "cell_type": "code",
      "source": [
        "smoothie = SmoothingFunction().method4\n"
      ],
      "metadata": {
        "id": "b1VoFxcfbEoU"
      },
      "execution_count": 4,
      "outputs": []
    },
    {
      "cell_type": "markdown",
      "source": [
        "Esta linha calcula o BLEU Score usando o texto de referência e o texto candidato.\n",
        "\n",
        "A função sentence_bleu compara as listas de palavras e mede quantas palavras do candidato estão presentes na referência, levando em conta também a ordem dessas palavras.\n",
        "\n",
        "A função de suavização (smoothie) é aplicada aqui para melhorar a precisão do cálculo."
      ],
      "metadata": {
        "id": "0fYB1W6Kbufk"
      }
    },
    {
      "cell_type": "code",
      "source": [
        "bleu_score = sentence_bleu(referencia, candidato, smoothing_function=smoothie)"
      ],
      "metadata": {
        "id": "DjnD96JmbrM6"
      },
      "execution_count": null,
      "outputs": []
    },
    {
      "cell_type": "markdown",
      "source": [
        "O BLEU Score é então exibido. O valor estará entre 0 e 1:\n",
        "\n",
        "1 indica que o texto candidato é idêntico ao texto de referência.\n",
        "\n",
        "0 significa que não há similaridade."
      ],
      "metadata": {
        "id": "TdPolRW8bQvY"
      }
    },
    {
      "cell_type": "code",
      "source": [
        "print(f\"BLEU Score: {bleu_score}\")"
      ],
      "metadata": {
        "colab": {
          "base_uri": "https://localhost:8080/"
        },
        "id": "HBEPFOAybGSo",
        "outputId": "16c11fd9-398c-4f15-d8f3-f9d93567c2e2"
      },
      "execution_count": 5,
      "outputs": [
        {
          "output_type": "stream",
          "name": "stdout",
          "text": [
            "BLEU Score: 0.252125370397224\n"
          ]
        }
      ]
    }
  ]
}